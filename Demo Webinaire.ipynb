{
 "cells": [
  {
   "cell_type": "markdown",
   "id": "f0af1a15-8e2d-4ec5-ac60-164585e1e969",
   "metadata": {},
   "source": [
    "# Utiliser l'IA Simplement, Facilement et Rapidement"
   ]
  },
  {
   "cell_type": "markdown",
   "id": "d7fc2efa-9a05-4a7b-a8a6-18834358fac3",
   "metadata": {
    "jp-MarkdownHeadingCollapsed": true
   },
   "source": [
    "### Imports"
   ]
  },
  {
   "cell_type": "code",
   "execution_count": 1,
   "id": "8bd12cae-2de2-4ba9-b4c3-0609add40efd",
   "metadata": {},
   "outputs": [],
   "source": [
    "import pandas as pd\n",
    "from openai import OpenAI\n",
    "import os"
   ]
  },
  {
   "cell_type": "markdown",
   "id": "ed53ab73-bd88-4399-b145-e1347d1cd982",
   "metadata": {},
   "source": [
    "# Prompt pour ChatGPT - IA Pure\n",
    "\n",
    "Je suis hotelier au sud de l’Espagne, mon hôtel a 500 chambres et nous sommes situés à côté d’un aéroport international. Tu es expert en communication digitale et en organisation d’événements dans le secteur hotelier. Aide-moi à définir une stratégie de communication sur les réseaux sociaux"
   ]
  },
  {
   "cell_type": "markdown",
   "id": "e79b9aa8-3b88-44f2-b4df-341f240e969d",
   "metadata": {},
   "source": [
    "# Prompt avancé pour ChatGPT - IA Pure et balises \n",
    "[INFOS HOTEL]\n",
    "500 chambres, spacieuses, 3 catégories de confort, dont une vue mer\n",
    "3 piscines, un spa\n",
    "proche de l'aéroport international de malaga en espagne\n",
    "\n",
    "[ACTIVITE]\n",
    "Excursion d'une journée au Caminito del Rey\n",
    "Prix : 35 euros par personne, repas et transport compris\n",
    "Tous les samedi matin\n",
    "\n",
    "Je suis hotelier. Les infos sur mon hotel sont dans [INFOS HOTEL]. Tu es expert en com sur les réseaux sociaux / emailing. J'ai besoin que tu m'écrives un texte pour un email à envoyer à mes clients, mettant en avant [ACTIVITE].\n",
    "\n",
    "Fais quelque chose de court et punchy"
   ]
  },
  {
   "cell_type": "markdown",
   "id": "48b9b8e9-4691-4ada-86f3-69faa2e5c3c0",
   "metadata": {},
   "source": [
    "# Prompt pour ChatGPT - Un peu de code"
   ]
  },
  {
   "cell_type": "markdown",
   "id": "079ce885-0187-44d2-acda-ff0e3d119c5c",
   "metadata": {},
   "source": [
    "j'ai un fichier Excel qui s'appelle transactions.xlsx avec des lignes représentant des achats dans un hotel. \n",
    "\n",
    "J'ai besoin de **normaliser la colonne contenant le montant des achats (Montant)** : je ne veux que des \".\" comme séparateur pour les décimales. \n",
    "\n",
    "Je veux aussi **supprimer toutes les lignes qui contiennent des valeurs manquantes**. \n",
    "\n",
    "Je veux mettre tout le contenu de la **colonne \"Description\" en minuscules**.\n",
    "\n",
    "Je veux ensuite **enregistrer le résultat** dans un nouvel Excel nommé \"transactions_gpt.xlsx\". Ecris moi le code Python pour le faire"
   ]
  },
  {
   "cell_type": "code",
   "execution_count": 2,
   "id": "74a78743-6005-405d-b8a4-1c21d9a05d52",
   "metadata": {},
   "outputs": [
    {
     "name": "stdout",
     "output_type": "stream",
     "text": [
      "Fichier nettoyé !\n"
     ]
    }
   ],
   "source": [
    "# Lire le fichier Excel\n",
    "df = pd.read_excel('transactions.xlsx')\n",
    "\n",
    "# Normaliser le séparateur décimal dans la colonne 'Montant'\n",
    "df['Montant'] = df['Montant'].astype(str).str.replace(',', '.').astype(float)\n",
    "\n",
    "# Supprimer les lignes avec des valeurs manquantes dans n'importe quelle colonne\n",
    "df.dropna(inplace=True)\n",
    "\n",
    "# Mettre en minuscules la colonne Description\n",
    "df['Description'] = df['Description'].str.lower()\n",
    "\n",
    "# Enregistrer le DataFrame nettoyé dans un nouveau fichier Excel\n",
    "df.to_excel('transactions_gpt.xlsx', index=False)\n",
    "print(\"Fichier nettoyé !\")"
   ]
  },
  {
   "cell_type": "markdown",
   "id": "3742d416-120a-46f4-b2b4-e86f739e6c58",
   "metadata": {},
   "source": [
    "# Analyser des avis client automatiquement"
   ]
  },
  {
   "cell_type": "code",
   "execution_count": 3,
   "id": "492a2eb3-af61-4c3c-9c19-02a8576a3c2b",
   "metadata": {},
   "outputs": [],
   "source": [
    "role_gpt = \"\"\"Tu es expert en service client hotelier. \n",
    "    Tu analyses les avis clients qu'on te donne et tu fais une synthèse avec les 3 choses qui plaisent le plus,\n",
    "    et les 3 choses qui plaisent le moins aux gens. Formatte le résultat simplement\"\"\""
   ]
  },
  {
   "cell_type": "markdown",
   "id": "420373d7-adf1-499a-9293-6fccd3376ab7",
   "metadata": {},
   "source": [
    "## Donner le fichier des avis"
   ]
  },
  {
   "cell_type": "code",
   "execution_count": 4,
   "id": "40f962fc-df17-4fc5-8eff-b76a2741c40c",
   "metadata": {},
   "outputs": [],
   "source": [
    "liste_avis = pd.read_excel(\"avis_hotel.xlsx\", header=None)"
   ]
  },
  {
   "cell_type": "markdown",
   "id": "3764c32c-e221-4c8e-be39-d143b0368b22",
   "metadata": {},
   "source": [
    "## Regrouper tous les avis en un seul"
   ]
  },
  {
   "cell_type": "code",
   "execution_count": 5,
   "id": "855a13d2-eb6c-44fb-a669-125a1bec8f5e",
   "metadata": {},
   "outputs": [],
   "source": [
    "string_avis = \"\"\n",
    "for avis in liste_avis[0]:\n",
    "    string_avis = string_avis + f\"Avis: {avis} \\n\\n\""
   ]
  },
  {
   "cell_type": "markdown",
   "id": "96a982d5-cbcb-4f22-8d22-1d57cf4817ff",
   "metadata": {},
   "source": [
    "## Demander l'aide de ChatGPT"
   ]
  },
  {
   "cell_type": "code",
   "execution_count": null,
   "id": "ccbd186b",
   "metadata": {},
   "outputs": [],
   "source": [
    "OPENAI_API_KEY = input()"
   ]
  },
  {
   "cell_type": "code",
   "execution_count": null,
   "id": "b1b83559",
   "metadata": {},
   "outputs": [],
   "source": [
    "client = OpenAI(api_key=OPENAI_API_KEY)"
   ]
  },
  {
   "cell_type": "code",
   "execution_count": 6,
   "id": "83b04640-23a3-4640-b27b-c68f8dbed6cb",
   "metadata": {},
   "outputs": [],
   "source": [
    "completion = client.chat.completions.create(\n",
    "  model=\"gpt-3.5-turbo\",\n",
    "  messages=[\n",
    "    {\"role\": \"system\", \"content\": role_gpt },\n",
    "    {\"role\": \"user\", \"content\": string_avis}\n",
    "  ]\n",
    ")"
   ]
  },
  {
   "cell_type": "code",
   "execution_count": 7,
   "id": "fa6d8cb0-0c37-4040-ac0d-5de07626b12c",
   "metadata": {},
   "outputs": [
    {
     "name": "stdout",
     "output_type": "stream",
     "text": [
      "Points positifs les plus souvent évoqués :\n",
      "1. Nourriture de qualité au restaurant\n",
      "2. Personnel accueillant et serviable\n",
      "3. Hôtel récent et bien entretenu\n",
      "\n",
      "Points négatifs les plus souvent cités :\n",
      "1. Attente importante au buffet\n",
      "2. SPA pas ouvert assez tard\n",
      "3. Hôtel non adapté aux enfants\n"
     ]
    }
   ],
   "source": [
    "reponse = completion.choices[0].message.content\n",
    "print(reponse)"
   ]
  }
 ],
 "metadata": {
  "kernelspec": {
   "display_name": "Python 3 (ipykernel)",
   "language": "python",
   "name": "python3"
  },
  "language_info": {
   "codemirror_mode": {
    "name": "ipython",
    "version": 3
   },
   "file_extension": ".py",
   "mimetype": "text/x-python",
   "name": "python",
   "nbconvert_exporter": "python",
   "pygments_lexer": "ipython3",
   "version": "3.9.18"
  }
 },
 "nbformat": 4,
 "nbformat_minor": 5
}
